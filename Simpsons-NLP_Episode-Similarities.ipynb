{
 "cells": [
  {
   "cell_type": "code",
   "execution_count": 2,
   "metadata": {},
   "outputs": [],
   "source": [
    "import pickle\n",
    "\n",
    "with open('simpsons_scripts_tfidf.pickle', 'rb') as eps_info:\n",
    "    episodes = pickle.load(eps_info)"
   ]
  },
  {
   "cell_type": "code",
   "execution_count": 23,
   "metadata": {},
   "outputs": [],
   "source": [
    "# Flatten out episode data for easier comparisons\n",
    "flat_eps = [{'id':'S{s_num}E{ep_num}'.format(s_num=s_num, ep_num=ep_num),\n",
    "                'top_words':set([top_word['phrase'] for top_word in episodes[s_num][ep_num]['top_words']])\n",
    "            } \n",
    "            for s_num in episodes for ep_num in episodes[s_num]\n",
    "           ]"
   ]
  },
  {
   "cell_type": "code",
   "execution_count": 24,
   "metadata": {},
   "outputs": [],
   "source": [
    "# Perform pairwise comparisons of Jaccard Similarity\n",
    "\n",
    "def jaccard_similarity(phrases1, phrases2):\n",
    "    \"\"\"Intersection over Union\n",
    "    \"\"\"\n",
    "    return len(phrases1.intersection(phrases2)) / len(phrases1.union(phrases2))\n",
    "\n",
    "similarities = []\n",
    "for ep1 in range(len(flat_eps) - 1):\n",
    "    for ep2 in range(ep1 + 1, len(flat_eps)):\n",
    "        comparison = {}\n",
    "        comparison['id1'] = flat_eps[ep1]['id']\n",
    "        comparison['id2'] = flat_eps[ep2]['id']\n",
    "        comparison['jaccard_similarity'] = jaccard_similarity(flat_eps[ep1]['top_words'], flat_eps[ep2]['top_words'])\n",
    "        similarities.append(comparison)"
   ]
  },
  {
   "cell_type": "code",
   "execution_count": 22,
   "metadata": {},
   "outputs": [
    {
     "data": {
      "text/plain": [
       "[{'id1': 'S16E1', 'id2': 'S16E2', 'jaccard_similarity': 0.16346713205351948},\n",
       " {'id1': 'S4E12', 'id2': 'S9E11', 'jaccard_similarity': 0.13219741480611047},\n",
       " {'id1': 'S1E9', 'id2': 'S6E3', 'jaccard_similarity': 0.09950522264980759},\n",
       " {'id1': 'S5E9', 'id2': 'S6E3', 'jaccard_similarity': 0.0958904109589041},\n",
       " {'id1': 'S5E8', 'id2': 'S9E11', 'jaccard_similarity': 0.08502252252252253},\n",
       " {'id1': 'S10E5', 'id2': 'S13E17', 'jaccard_similarity': 0.08401084010840108},\n",
       " {'id1': 'S22E12', 'id2': 'S22E20', 'jaccard_similarity': 0.07642626480086114},\n",
       " {'id1': 'S7E1', 'id2': 'S7E10', 'jaccard_similarity': 0.07469102632993015},\n",
       " {'id1': 'S4E15', 'id2': 'S6E3', 'jaccard_similarity': 0.07353730542136339},\n",
       " {'id1': 'S23E13', 'id2': 'S24E10', 'jaccard_similarity': 0.07123583378305451},\n",
       " {'id1': 'S10E18', 'id2': 'S12E17', 'jaccard_similarity': 0.0711864406779661},\n",
       " {'id1': 'S12E18', 'id2': 'S12E21', 'jaccard_similarity': 0.07111111111111111},\n",
       " {'id1': 'S12E17', 'id2': 'S12E21', 'jaccard_similarity': 0.07106310403638431},\n",
       " {'id1': 'S13E14', 'id2': 'S20E9', 'jaccard_similarity': 0.07098591549295774},\n",
       " {'id1': 'S2E11', 'id2': 'S4E18', 'jaccard_similarity': 0.07090187180941576},\n",
       " {'id1': 'S22E7', 'id2': 'S22E10', 'jaccard_similarity': 0.07088331515812432},\n",
       " {'id1': 'S5E2', 'id2': 'S10E18', 'jaccard_similarity': 0.06994535519125683},\n",
       " {'id1': 'S24E10', 'id2': 'S25E14', 'jaccard_similarity': 0.06984298863021116},\n",
       " {'id1': 'S22E7', 'id2': 'S22E12', 'jaccard_similarity': 0.06971677559912855},\n",
       " {'id1': 'S22E7', 'id2': 'S25E14', 'jaccard_similarity': 0.06947483588621445},\n",
       " {'id1': 'S22E7', 'id2': 'S24E10', 'jaccard_similarity': 0.06911684037301152},\n",
       " {'id1': 'S23E12', 'id2': 'S25E14', 'jaccard_similarity': 0.06793478260869565},\n",
       " {'id1': 'S20E14', 'id2': 'S20E21', 'jaccard_similarity': 0.06774014436424208},\n",
       " {'id1': 'S10E18', 'id2': 'S12E21', 'jaccard_similarity': 0.06762749445676275},\n",
       " {'id1': 'S23E12', 'id2': 'S23E13', 'jaccard_similarity': 0.06760411032990805}]"
      ]
     },
     "execution_count": 22,
     "metadata": {},
     "output_type": "execute_result"
    }
   ],
   "source": [
    "top_similarities = sorted(similarities, key=lambda x: x['jaccard_similarity'], reverse=True)\n",
    "top_similarities[:25]"
   ]
  },
  {
   "cell_type": "code",
   "execution_count": 26,
   "metadata": {},
   "outputs": [],
   "source": [
    "with open('simpsons_scripts_similarities.pickle', 'wb') as similarities:\n",
    "    pickle.dump(top_similarities, similarities, protocol=pickle.HIGHEST_PROTOCOL)"
   ]
  },
  {
   "cell_type": "code",
   "execution_count": null,
   "metadata": {},
   "outputs": [],
   "source": []
  }
 ],
 "metadata": {
  "kernelspec": {
   "display_name": "Python 3",
   "language": "python",
   "name": "python3"
  },
  "language_info": {
   "codemirror_mode": {
    "name": "ipython",
    "version": 3
   },
   "file_extension": ".py",
   "mimetype": "text/x-python",
   "name": "python",
   "nbconvert_exporter": "python",
   "pygments_lexer": "ipython3",
   "version": "3.6.8"
  }
 },
 "nbformat": 4,
 "nbformat_minor": 2
}
