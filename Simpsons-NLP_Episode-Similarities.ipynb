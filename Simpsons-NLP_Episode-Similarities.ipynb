{
 "cells": [
  {
   "cell_type": "code",
   "execution_count": 5,
   "metadata": {},
   "outputs": [],
   "source": [
    "import pickle\n",
    "\n",
    "with open('simpsons_scripts_tfidf.pickle', 'rb') as eps_info:\n",
    "    episodes = pickle.load(eps_info)"
   ]
  },
  {
   "cell_type": "code",
   "execution_count": 10,
   "metadata": {},
   "outputs": [],
   "source": [
    "# Flatten out episode data for easier comparisons\n",
    "flat_eps = [{'id':'S{s_num}E{ep_num}'.format(s_num=s_num, ep_num=ep_num),\n",
    "                'top_words':set([top_word['phrase'] for top_word in episodes[s_num][ep_num]['top_words']]),\n",
    "                'tfidf_vector':episodes[s_num][ep_num]['tfidf_vector']\n",
    "            } \n",
    "            for s_num in episodes for ep_num in episodes[s_num]\n",
    "           ]"
   ]
  },
  {
   "cell_type": "code",
   "execution_count": 11,
   "metadata": {},
   "outputs": [],
   "source": [
    "# Perform pairwise comparisons of Jaccard and Cosine Similarity\n",
    "\n",
    "import numpy as np\n",
    "\n",
    "def jaccard_similarity(phrases1, phrases2):\n",
    "    \"\"\"Intersection over Union\n",
    "    \"\"\"\n",
    "    return len(phrases1.intersection(phrases2)) / len(phrases1.union(phrases2))\n",
    "\n",
    "def cosine_similarity(ep1_vec, ep2_vec):\n",
    "    \"\"\"A.B / norm(A).norm(B)\n",
    "    \"\"\"\n",
    "    numerator = np.dot(ep1_vec, ep2_vec)\n",
    "    denominator = np.dot(np.linalg.norm(ep1_vec), np.linalg.norm(ep2_vec))\n",
    "    \n",
    "    if not denominator:\n",
    "        return 0\n",
    "    else:\n",
    "        return numerator / denominator\n",
    "\n",
    "similarities = []\n",
    "for ep1 in range(len(flat_eps) - 1):\n",
    "    for ep2 in range(ep1 + 1, len(flat_eps)):\n",
    "        comparison = {}\n",
    "        comparison['id1'] = flat_eps[ep1]['id']\n",
    "        comparison['id2'] = flat_eps[ep2]['id']\n",
    "        comparison['jaccard_similarity'] = jaccard_similarity(flat_eps[ep1]['top_words'], flat_eps[ep2]['top_words'])\n",
    "        comparison['cosine_similarity'] = cosine_similarity(flat_eps[ep1]['tfidf_vector'], flat_eps[ep2]['tfidf_vector'])\n",
    "        similarities.append(comparison)"
   ]
  },
  {
   "cell_type": "code",
   "execution_count": 24,
   "metadata": {},
   "outputs": [
    {
     "name": "stdout",
     "output_type": "stream",
     "text": [
      "Most similar episodes:\n",
      "Jaccard\t\t\t\tCosine\n",
      "S16E1, S16E2\t\t\tS13E10, S15E14\n",
      "S4E12, S9E11\t\t\tS3E20, S19E16\n",
      "S1E9, S6E3\t\t\tS13E18, S22E14\n",
      "S5E9, S6E3\t\t\tS2E9, S7E18\n",
      "S5E8, S9E11\t\t\tS2E21, S7E2\n",
      "S10E5, S13E17\t\t\tS6E15, S7E15\n",
      "S22E12, S22E20\t\t\tS25E15, S29E12\n",
      "S7E1, S7E10\t\t\tS13E12, S17E22\n",
      "S4E15, S6E3\t\t\tS9E18, S19E10\n",
      "S23E13, S24E10\t\t\tS1E12, S6E15\n",
      "S10E18, S12E17\t\t\tS11E22, S30E22\n",
      "S12E18, S12E21\t\t\tS6E4, S7E18\n",
      "S12E17, S12E21\t\t\tS14E19, S26E17\n",
      "S13E14, S20E9\t\t\tS6E5, S8E16\n",
      "S2E11, S4E18\t\t\tS4E12, S9E11\n",
      "S22E7, S22E10\t\t\tS7E18, S8E14\n",
      "S5E2, S10E18\t\t\tS1E3, S27E19\n",
      "S24E10, S25E14\t\t\tS8E16, S19E8\n",
      "S22E7, S22E12\t\t\tS16E1, S16E2\n",
      "S22E7, S25E14\t\t\tS6E5, S19E8\n",
      "S22E7, S24E10\t\t\tS24E10, S30E18\n",
      "S23E12, S25E14\t\t\tS6E5, S17E8\n",
      "S20E14, S20E21\t\t\tS8E19, S15E17\n",
      "S10E18, S12E21\t\t\tS17E8, S19E8\n",
      "S23E12, S23E13\t\t\tS1E12, S7E15\n"
     ]
    }
   ],
   "source": [
    "top_n = 25\n",
    "\n",
    "top_jaccard_similarities = sorted(similarities, key=lambda x: x['jaccard_similarity'], reverse=True)\n",
    "top_cosine_similarities = sorted(similarities, key=lambda x: x['cosine_similarity'], reverse=True)\n",
    "\n",
    "print('Most similar episodes:')\n",
    "print('Jaccard\\t\\t\\t\\tCosine')\n",
    "for i in range(top_n):\n",
    "    print('{j1}, {j2}\\t\\t\\t{c1}, {c2}'.format(j1=top_jaccard_similarities[i]['id1'],\n",
    "                                                            j2=top_jaccard_similarities[i]['id2'],\n",
    "                                                            c1=top_cosine_similarities[i]['id1'],\n",
    "                                                            c2=top_cosine_similarities[i]['id2']\n",
    "                                                           ))"
   ]
  },
  {
   "cell_type": "code",
   "execution_count": null,
   "metadata": {},
   "outputs": [],
   "source": []
  }
 ],
 "metadata": {
  "kernelspec": {
   "display_name": "Python 3",
   "language": "python",
   "name": "python3"
  },
  "language_info": {
   "codemirror_mode": {
    "name": "ipython",
    "version": 3
   },
   "file_extension": ".py",
   "mimetype": "text/x-python",
   "name": "python",
   "nbconvert_exporter": "python",
   "pygments_lexer": "ipython3",
   "version": "3.6.8"
  }
 },
 "nbformat": 4,
 "nbformat_minor": 2
}
