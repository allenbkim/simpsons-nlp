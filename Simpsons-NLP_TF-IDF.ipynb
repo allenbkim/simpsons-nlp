{
 "cells": [
  {
   "cell_type": "code",
   "execution_count": 2,
   "metadata": {},
   "outputs": [],
   "source": [
    "import pickle"
   ]
  },
  {
   "cell_type": "code",
   "execution_count": 3,
   "metadata": {},
   "outputs": [],
   "source": [
    "# Load episode data from previous scraping exercise\n",
    "with open('simpsons_scripts.pickle', 'rb') as eps_file:\n",
    "    episodes = pickle.load(eps_file)"
   ]
  },
  {
   "cell_type": "code",
   "execution_count": 4,
   "metadata": {},
   "outputs": [],
   "source": [
    "# Go through the seasons and add scripts to a list to facilitate vectorization\n",
    "ep_scripts = []\n",
    "ep_script_lookup = {}\n",
    "for season in episodes:\n",
    "    for episode in episodes[season]:\n",
    "        ep_scripts.append(episodes[season][episode]['script'])\n",
    "        ep_script_lookup[len(ep_scripts)-1] = {}\n",
    "        ep_script_lookup[len(ep_scripts)-1]['season'] = season\n",
    "        ep_script_lookup[len(ep_scripts)-1]['title'] = episode"
   ]
  },
  {
   "cell_type": "code",
   "execution_count": 5,
   "metadata": {},
   "outputs": [],
   "source": [
    "# Use Scikit-Learn TF-IDF feature\n",
    "from sklearn.feature_extraction.text import TfidfVectorizer\n",
    "\n",
    "# TODO: experiment with parameters\n",
    "tfidf_vectorizer = TfidfVectorizer(stop_words='english', lowercase=True, ngram_range=(1,3), min_df=2, max_df=0.5)\n",
    "X = tfidf_vectorizer.fit_transform(ep_scripts)\n",
    "X_array = X.toarray()"
   ]
  },
  {
   "cell_type": "code",
   "execution_count": 6,
   "metadata": {},
   "outputs": [
    {
     "name": "stdout",
     "output_type": "stream",
     "text": [
      "{'season': 3, 'title': 3}\n"
     ]
    },
    {
     "data": {
      "text/plain": [
       "'left handed'"
      ]
     },
     "execution_count": 6,
     "metadata": {},
     "output_type": "execute_result"
    }
   ],
   "source": [
    "# Take a peek at how the results are\n",
    "\n",
    "episode = 37\n",
    "print(ep_script_lookup[episode])\n",
    "ep_max = X_array[episode].argmax()\n",
    "tfidf_vectorizer.get_feature_names()[ep_max]"
   ]
  },
  {
   "cell_type": "code",
   "execution_count": null,
   "metadata": {},
   "outputs": [],
   "source": []
  }
 ],
 "metadata": {
  "kernelspec": {
   "display_name": "Python 3",
   "language": "python",
   "name": "python3"
  },
  "language_info": {
   "codemirror_mode": {
    "name": "ipython",
    "version": 3
   },
   "file_extension": ".py",
   "mimetype": "text/x-python",
   "name": "python",
   "nbconvert_exporter": "python",
   "pygments_lexer": "ipython3",
   "version": "3.6.8"
  }
 },
 "nbformat": 4,
 "nbformat_minor": 2
}
